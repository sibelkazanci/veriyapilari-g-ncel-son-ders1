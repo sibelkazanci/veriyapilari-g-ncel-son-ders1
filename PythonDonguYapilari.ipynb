{
  "nbformat": 4,
  "nbformat_minor": 0,
  "metadata": {
    "colab": {
      "provenance": []
    },
    "kernelspec": {
      "name": "python3",
      "display_name": "Python 3"
    },
    "language_info": {
      "name": "python"
    }
  },
  "cells": [
    {
      "cell_type": "code",
      "execution_count": null,
      "metadata": {
        "colab": {
          "base_uri": "https://localhost:8080/"
        },
        "id": "-9Sa52Wm_Agf",
        "outputId": "7b944f3a-e8cc-4ae9-9bc3-8ec0b36ecc16"
      },
      "outputs": [
        {
          "output_type": "stream",
          "name": "stdout",
          "text": [
            "Merhaba, İGÜ - İSTKA / Ders 4\n"
          ]
        }
      ],
      "source": [
        "print(\"Merhaba, İGÜ - İSTKA / Ders 4\") # print ekrana çıktı veren bir koddur."
      ]
    },
    {
      "cell_type": "code",
      "source": [
        "import sys # import python programlama dilinde yazılıma kütüphane eklemeye yarayan bir kod blogudur.\n",
        "print(sys.version)"
      ],
      "metadata": {
        "colab": {
          "base_uri": "https://localhost:8080/"
        },
        "id": "Q-QyJXZs_RdW",
        "outputId": "8397cf17-6fdd-4502-d274-5c7e6380d433"
      },
      "execution_count": null,
      "outputs": [
        {
          "output_type": "stream",
          "name": "stdout",
          "text": [
            "3.10.12 (main, Jul 29 2024, 16:56:48) [GCC 11.4.0]\n"
          ]
        }
      ]
    },
    {
      "cell_type": "code",
      "source": [
        "from google.colab import drive # google colab - drive bağlantısı\n",
        "\n",
        "drive.mount('/content/drive')"
      ],
      "metadata": {
        "colab": {
          "base_uri": "https://localhost:8080/"
        },
        "id": "0kvOozwk_XiF",
        "outputId": "39d9d8a7-4e2a-44a7-ef81-3b376a7b4119"
      },
      "execution_count": null,
      "outputs": [
        {
          "output_type": "stream",
          "name": "stdout",
          "text": [
            "Mounted at /content/drive\n"
          ]
        }
      ]
    },
    {
      "cell_type": "code",
      "source": [
        "import os\n",
        "\n",
        "os.chdir('/content/drive/My Drive/PythonDonguYapilari')\n",
        "\n",
        "!pwd # bize kodun çıktısını dosya yolu olarak veren kod blogudur"
      ],
      "metadata": {
        "colab": {
          "base_uri": "https://localhost:8080/",
          "height": 211
        },
        "id": "Kr76NJWf_qaW",
        "outputId": "fd6d8698-678a-4b1a-adf6-07ee38878893"
      },
      "execution_count": null,
      "outputs": [
        {
          "output_type": "error",
          "ename": "NotADirectoryError",
          "evalue": "[Errno 20] Not a directory: '/content/drive/My Drive/PythonDonguYapilari'",
          "traceback": [
            "\u001b[0;31m---------------------------------------------------------------------------\u001b[0m",
            "\u001b[0;31mNotADirectoryError\u001b[0m                        Traceback (most recent call last)",
            "\u001b[0;32m<ipython-input-8-32b1242f0919>\u001b[0m in \u001b[0;36m<cell line: 3>\u001b[0;34m()\u001b[0m\n\u001b[1;32m      1\u001b[0m \u001b[0;32mimport\u001b[0m \u001b[0mos\u001b[0m\u001b[0;34m\u001b[0m\u001b[0;34m\u001b[0m\u001b[0m\n\u001b[1;32m      2\u001b[0m \u001b[0;34m\u001b[0m\u001b[0m\n\u001b[0;32m----> 3\u001b[0;31m \u001b[0mos\u001b[0m\u001b[0;34m.\u001b[0m\u001b[0mchdir\u001b[0m\u001b[0;34m(\u001b[0m\u001b[0;34m'/content/drive/My Drive/PythonDonguYapilari'\u001b[0m\u001b[0;34m)\u001b[0m\u001b[0;34m\u001b[0m\u001b[0;34m\u001b[0m\u001b[0m\n\u001b[0m\u001b[1;32m      4\u001b[0m \u001b[0;34m\u001b[0m\u001b[0m\n\u001b[1;32m      5\u001b[0m \u001b[0mget_ipython\u001b[0m\u001b[0;34m(\u001b[0m\u001b[0;34m)\u001b[0m\u001b[0;34m.\u001b[0m\u001b[0msystem\u001b[0m\u001b[0;34m(\u001b[0m\u001b[0;34m'pwd # bize kodun çıktısını dosya yolu olarak veren kod blogudur'\u001b[0m\u001b[0;34m)\u001b[0m\u001b[0;34m\u001b[0m\u001b[0;34m\u001b[0m\u001b[0m\n",
            "\u001b[0;31mNotADirectoryError\u001b[0m: [Errno 20] Not a directory: '/content/drive/My Drive/PythonDonguYapilari'"
          ]
        }
      ]
    },
    {
      "cell_type": "code",
      "source": [
        "# for döngüsü örneği: 0'dan 5'e kadar olan sayıları yazdırılması işlemidir.\n",
        "for i in range(5):\n",
        "    print(i)"
      ],
      "metadata": {
        "colab": {
          "base_uri": "https://localhost:8080/"
        },
        "id": "6alp5mxvGKki",
        "outputId": "4620f683-d134-4374-cb80-260e361e62e6"
      },
      "execution_count": null,
      "outputs": [
        {
          "output_type": "stream",
          "name": "stdout",
          "text": [
            "0\n",
            "1\n",
            "2\n",
            "3\n",
            "4\n"
          ]
        }
      ]
    },
    {
      "cell_type": "code",
      "source": [
        "# for döngüsü örneği: alışveriş listesi oluşturma\n",
        "liste=[\"elma\",\"ekmek\",\"süt\",\"peynir\"]\n",
        "\n",
        "for alinacaklar in liste:\n",
        "   print(alinacaklar)\n"
      ],
      "metadata": {
        "colab": {
          "base_uri": "https://localhost:8080/"
        },
        "id": "eokTw5UhHR16",
        "outputId": "1d5547d3-c071-4974-e40b-70f608497794"
      },
      "execution_count": null,
      "outputs": [
        {
          "output_type": "stream",
          "name": "stdout",
          "text": [
            "elma\n",
            "ekmek\n",
            "süt\n",
            "peynir\n"
          ]
        }
      ]
    },
    {
      "cell_type": "code",
      "source": [
        "#FOR DÖNGÜSÜ ÖRNEĞİ: bir sınıfta öğrencilerin notlarının ortalamasının hesaplanması\n",
        "notlar=[85,92,78,90,88]\n",
        "toplam=0\n",
        "for sayi in notlar:\n",
        "  toplam+=sayi   #toplam= toplam+sayi  (bir kısaltmadır, döngü içerisindeki her tekrarda toplamın üzerine ilgisi sayının dizinindeki bilgi gelecek)\n",
        "\n",
        "ortalama = toplam / len(notlar)\n",
        "\n",
        "print(\"birinci print -> Not Ortalaması:\" ,ortalama)\n",
        "print(f\"İkinci print -> Not ortalaması:{ortalama}\")"
      ],
      "metadata": {
        "colab": {
          "base_uri": "https://localhost:8080/"
        },
        "id": "9aByBkluRLSl",
        "outputId": "16ea7c13-b8ba-42fa-c758-82344cb505d0"
      },
      "execution_count": 4,
      "outputs": [
        {
          "output_type": "stream",
          "name": "stdout",
          "text": [
            "birinci print -> Not Ortalaması: 86.6\n",
            "İkinci print -> Not ortalaması:86.6\n"
          ]
        }
      ]
    },
    {
      "cell_type": "code",
      "source": [
        "# while döngüsü örneği: 0'dan 4'e kadar olan sayıları yazdırılması işlemidir.\n",
        "i=0\n",
        "while i<5:\n",
        "  print(i)\n",
        "  i+=1"
      ],
      "metadata": {
        "colab": {
          "base_uri": "https://localhost:8080/"
        },
        "id": "j9OcXal4TsQ1",
        "outputId": "696421b2-a61c-44d6-bd4a-7a4a8f01ed29"
      },
      "execution_count": 5,
      "outputs": [
        {
          "output_type": "stream",
          "name": "stdout",
          "text": [
            "0\n",
            "1\n",
            "2\n",
            "3\n",
            "4\n"
          ]
        }
      ]
    },
    {
      "cell_type": "code",
      "source": [
        "#Kullanıcıdan bir sayı alınması\n",
        "user_input = int(input(\"Bir sayı girin: \"))\n",
        "\n",
        "#0'dan kullanıcı tarafındn girilen sayıya kadar sıramala yapma\n",
        "\n",
        "i=0\n",
        "while i <= user_input:\n",
        "   print(i)\n",
        "   i+= 1"
      ],
      "metadata": {
        "colab": {
          "base_uri": "https://localhost:8080/"
        },
        "id": "ZuoKueh5WR35",
        "outputId": "4935a6ef-4fbf-450a-ee4c-2a6fe5be9e4a"
      },
      "execution_count": 12,
      "outputs": [
        {
          "output_type": "stream",
          "name": "stdout",
          "text": [
            "Bir sayı girin: 10\n",
            "0\n",
            "1\n",
            "2\n",
            "3\n",
            "4\n",
            "5\n",
            "6\n",
            "7\n",
            "8\n",
            "9\n",
            "10\n"
          ]
        }
      ]
    },
    {
      "cell_type": "code",
      "source": [
        "# break örneği: 3'e ulaştığında döngü sonlandıran kod blogudur.\n",
        "for i in range(5):\n",
        "  if i== 3:\n",
        "    break\n",
        "  print(i)\n",
        ""
      ],
      "metadata": {
        "colab": {
          "base_uri": "https://localhost:8080/"
        },
        "id": "IzYaCXL_Xjoc",
        "outputId": "7dd9425d-4f6f-4e1d-eb4b-1ab1c76ed47a"
      },
      "execution_count": 20,
      "outputs": [
        {
          "output_type": "stream",
          "name": "stdout",
          "text": [
            "0\n",
            "1\n",
            "2\n"
          ]
        }
      ]
    },
    {
      "cell_type": "code",
      "source": [
        "# continue örneği: 3'e ulaştığında o tekrar işlemini es geçen kod blogudur.\n",
        "for i in range(5):\n",
        "    if i ==3:\n",
        "      continue\n",
        "    print(i)"
      ],
      "metadata": {
        "colab": {
          "base_uri": "https://localhost:8080/"
        },
        "id": "mqgsPcC6YSTk",
        "outputId": "cf1e31d2-ad7b-4f21-9979-14dff2052354"
      },
      "execution_count": 21,
      "outputs": [
        {
          "output_type": "stream",
          "name": "stdout",
          "text": [
            "0\n",
            "1\n",
            "2\n",
            "4\n"
          ]
        }
      ]
    },
    {
      "cell_type": "code",
      "source": [
        "# iç içe for döngüsü örneği: 2 boyutlu bir matrisin elemanları üzerinde işlemler\n",
        "matris=[[1,2,3,4,5,6,7,8,9]]\n",
        "\n",
        "for x in matris:\n",
        "   for y in x:\n",
        "      print(y)"
      ],
      "metadata": {
        "colab": {
          "base_uri": "https://localhost:8080/"
        },
        "id": "UoAyRfLZY2cQ",
        "outputId": "2782da0f-1d7f-4568-ab3a-cbbb995954fd"
      },
      "execution_count": 22,
      "outputs": [
        {
          "output_type": "stream",
          "name": "stdout",
          "text": [
            "1\n",
            "2\n",
            "3\n",
            "4\n",
            "5\n",
            "6\n",
            "7\n",
            "8\n",
            "9\n"
          ]
        }
      ]
    },
    {
      "cell_type": "code",
      "source": [
        "#kendi örneğim\n",
        "matris =[[\"Sibel Kazancı\", \"Yaş 28\",\"Bekar\",\"Çalışıyor\"]]\n",
        "\n",
        "for x in matris:\n",
        "  for y in x:\n",
        "    print(y)"
      ],
      "metadata": {
        "colab": {
          "base_uri": "https://localhost:8080/"
        },
        "id": "vkqKPUeuZTKt",
        "outputId": "d5d345f7-e490-40b6-e907-2a4f2f615780"
      },
      "execution_count": 25,
      "outputs": [
        {
          "output_type": "stream",
          "name": "stdout",
          "text": [
            "Sibel Kazancı\n",
            "Yaş 28\n",
            "Bekar\n",
            "Çalışıyor\n"
          ]
        }
      ]
    },
    {
      "cell_type": "code",
      "source": [
        "# kullanıcıdan bilgi alınması\n",
        "while True:\n",
        "  try:\n",
        "    gelen_bilgi=int(input(\"Bir sayı girin\"))\n",
        "    break\n",
        "  except ValueError:\n",
        "    print(\"Lütfen geçerli bir bilgi girin!\")\n",
        "\n",
        "#0'dan kullanıcı tarafıdan girilen sayıya kadar sıralama yapmak\n",
        "i = 0\n",
        "while i <= gelen_bilgi:\n",
        "  print(i)\n",
        "  i+=1"
      ],
      "metadata": {
        "colab": {
          "base_uri": "https://localhost:8080/"
        },
        "id": "sB33ecgUaH95",
        "outputId": "a843895a-43e3-4e30-e50f-7f76537be1f7"
      },
      "execution_count": 30,
      "outputs": [
        {
          "output_type": "stream",
          "name": "stdout",
          "text": [
            "Bir sayı girin10\n",
            "0\n",
            "1\n",
            "2\n",
            "3\n",
            "4\n",
            "5\n",
            "6\n",
            "7\n",
            "8\n",
            "9\n",
            "10\n"
          ]
        }
      ]
    },
    {
      "cell_type": "code",
      "source": [
        "# while döngüsü örneği: kullanıcı bakiye bilgisinin sorgulanması\n",
        "\n",
        "toplam_ucret = 1000\n",
        "\n",
        "while toplam_ucret >0:\n",
        " try:\n",
        "  celilen_tutar =int(input(\"çekmek istediğiniz miktarı girin\"))\n",
        "  if celilen_tutar > toplam_ucret:\n",
        "    print(\"yetersiz bakiye\")\n",
        "    bilgi = input(\"işleme devam etmek istiyor musunuz?(e/h):\"). lover()\n",
        "    if bilgi==\"h\":\n",
        "      print(\"işlem snlandırıldı.\")\n",
        "      break\n",
        "  else:\n",
        "       toplam_ucret -= celilen_tutar\n",
        "       print(f\"Kalan bakiye: {toplam_ucret}\")\n",
        "  if toplam_ucret==0:\n",
        "    print(\"Bakiye tükendi.\")\n",
        "    break\n",
        " except ValueError:\n",
        "   print(\"Lütfen geçerli bir sayı girin!\")\n",
        "\n",
        "\n",
        "\n",
        "\n",
        "\n"
      ],
      "metadata": {
        "colab": {
          "base_uri": "https://localhost:8080/"
        },
        "id": "76O0IiuzcPIF",
        "outputId": "d13a3555-afb6-45f9-b223-77a154615bd6"
      },
      "execution_count": 34,
      "outputs": [
        {
          "output_type": "stream",
          "name": "stdout",
          "text": [
            "çekmek istediğiniz miktarı girin800\n",
            "Kalan bakiye: 200\n",
            "çekmek istediğiniz miktarı girin100\n",
            "Kalan bakiye: 100\n",
            "çekmek istediğiniz miktarı girin100\n",
            "Kalan bakiye: 0\n",
            "Bakiye tükendi.\n"
          ]
        }
      ]
    }
  ]
}